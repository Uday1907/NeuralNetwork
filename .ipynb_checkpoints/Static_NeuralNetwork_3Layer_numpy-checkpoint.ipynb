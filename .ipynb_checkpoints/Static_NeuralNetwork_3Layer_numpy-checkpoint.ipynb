{
 "cells": [
  {
   "cell_type": "code",
   "execution_count": 1,
   "id": "711ff459-dcb2-44d9-823f-a4dc46fe72a7",
   "metadata": {},
   "outputs": [],
   "source": [
    "import numpy as np\n",
    "import pandas as pd\n",
    "import matplotlib.pyplot as plt"
   ]
  },
  {
   "cell_type": "code",
   "execution_count": 2,
   "id": "1ad31c4b-f2b7-47fe-ab17-faf056f77abd",
   "metadata": {},
   "outputs": [],
   "source": [
    "def predict(x,w,b):\n",
    "    z=np.dot(w,x)+b\n",
    "    return z\n",
    "def init_params(n):\n",
    "    w1=np.random.randn(15,n)*0.01\n",
    "    w2=np.random.randn(6,15)*0.01\n",
    "    w3=np.random.randn(1,6)*0.01\n",
    "    b1=np.zeros((15,1))\n",
    "    b2=np.zeros((6,1))\n",
    "    b3=np.zeros((1,1))\n",
    "    return w1,w2,w3,b1,b2,b3"
   ]
  },
  {
   "cell_type": "code",
   "execution_count": 3,
   "id": "f46b069e-72e3-46e6-8c0f-29fbfd610b1d",
   "metadata": {},
   "outputs": [],
   "source": [
    "def sigmoid(z):\n",
    "    A=1/(1+np.exp(-z))\n",
    "    return A\n",
    "def derivative_sigmoid(A):\n",
    "    dA=A*(1-A)\n",
    "    return dA\n",
    "def derivative_tanh(A):\n",
    "    return 1-(np.tanh(A))**2"
   ]
  },
  {
   "cell_type": "code",
   "execution_count": 4,
   "id": "f5836334-82a1-47fe-8835-d85ed4fb621a",
   "metadata": {},
   "outputs": [],
   "source": [
    "def forward_propagation(x,w1,w2,w3,b1,b2,b3):\n",
    "    z1=predict(x,w1,b1)\n",
    "    # a1=sigmoid(z1)\n",
    "    a1=np.tanh(z1)\n",
    "    z2=predict(a1,w2,b2)\n",
    "    # a2=sigmoid(z2)\n",
    "    a2=np.tanh(z2)\n",
    "    z3=predict(a2,w3,b3)\n",
    "    a3=sigmoid(z3)\n",
    "    return z1,a1,z2,a2,z3,a3"
   ]
  },
  {
   "cell_type": "code",
   "execution_count": 5,
   "id": "e0ac054a-b81a-43e6-8453-0230bdde1b3a",
   "metadata": {},
   "outputs": [
    {
     "ename": "SyntaxError",
     "evalue": "invalid syntax (505376405.py, line 2)",
     "output_type": "error",
     "traceback": [
      "\u001b[1;36m  Cell \u001b[1;32mIn[5], line 2\u001b[1;36m\u001b[0m\n\u001b[1;33m    m=Y.shape[]\u001b[0m\n\u001b[1;37m              ^\u001b[0m\n\u001b[1;31mSyntaxError\u001b[0m\u001b[1;31m:\u001b[0m invalid syntax\n"
     ]
    }
   ],
   "source": [
    "def backward_propagation(x,y,a1,a2,a3,z1,z2,z3,w1,w2,w3):\n",
    "    m=Y.shape[]\n",
    "    # total_cost=total_loss\n",
    "    # loss_each=-y*log(a3)-(1-y)*log(1-a3)\n",
    "    # dloss/da3=(-y/a3)+(1-y/1-a3)\n",
    "    # da3=(-y/a3)+(1-y/1-a3)\n",
    "    # dloss/dz3=[dloss/da3]*[da3/dz3]\n",
    "    #           =(-y/a3)+(1-y/1-a3) * derivation of sigmoid(z3)\n",
    "    #           =(-y/a3)+(1-y/1-a3) * a3*(1-a3)\n",
    "    #       dz3 =[a3-y]\n",
    "    dz3=(a3-y)\n",
    "    # dw3= dz3* [dz3/dw3]\n",
    "    #     = (a3-y) * d(np.dot(a2,w3)+b)/d(w3)\n",
    "    #     = (a3-y) * a2\n",
    "    #     check the dimentions matching or not\n",
    "    #     dw3= (a3-y)* a2\n",
    "    dw3=dz3*a2\n",
    "    db3=dz3\n",
    "\n",
    "    \n",
    "    # da2= dz3* [dz3/da2]\n",
    "    #     = dz3 * d(np.dot(a2,w3)+b)/d(a2)\n",
    "    #     = dz3 * w3\n",
    "    #     check the dimentions matching\n",
    "    da2= dz3*(w3)\n",
    "    # dz2= da2* (da2/dz2)\n",
    "    #     here a2=np.tanh(z2)\n",
    "    #     so da2/dz2=derivative_tanh(z2)\n",
    "    #     dz2= da2 * (1-(a2))**2\n",
    "    #     check dimentionality\n",
    "    dz2= da2*derivative_tanh(z2)\n",
    "    # by observing above pattern we can compute that dwi=dzi*a(i-1)\n",
    "    dw2= dz2*a1\n",
    "    db2=dz2\n",
    "\n",
    "    # da1=dz2* [dz2/da1]\n",
    "    #     =dz2* np.dot(a1,w2)+b2/d(a1)\n",
    "    #     =dz2 * [w2]\n",
    "    #     check dimentionality\n",
    "    da1=dz2* w2\n",
    "    # dz1= da1* da1/dz1\n",
    "    #     = da1 * d(np.tanh(z1))/d(z1)\n",
    "    #     = da1 * (1-np.tanh(z1))**2\n",
    "    #     = da1 * (1-a1)**2\n",
    "    #     check dimentionality and build equation \n",
    "    dz1= da1* derivative_tanh(z1)\n",
    "    # dw1= dz1* (a0==x)\n",
    "    dw1=dz1*x\n",
    "    db1= dz1\n",
    "\n",
    "    return dw1,db1,dw2,db2,dw3,db3\n",
    "    \n",
    "    "
   ]
  },
  {
   "cell_type": "code",
   "execution_count": null,
   "id": "a4446e08-575a-4296-b7d2-adcc29313735",
   "metadata": {},
   "outputs": [],
   "source": [
    "def update_params(w1,w2,w3,b1,b2,b3,dw1,dw2,dw3,db1,db2,db3,alpha):\n",
    "    w1=w1-(alpha*dw1)\n",
    "    w2=w2-(alpha*dw2)\n",
    "    w3=w3-(alpha*dw3)\n",
    "    b1=b1-(alpha*db1)\n",
    "    b2=b2-(alpha*db2)\n",
    "    b3=b3-(alpha*db3)\n",
    "    return w1,b1,w2,b2,w3,b3\n",
    "    "
   ]
  }
 ],
 "metadata": {
  "kernelspec": {
   "display_name": "Python 3 (ipykernel)",
   "language": "python",
   "name": "python3"
  },
  "language_info": {
   "codemirror_mode": {
    "name": "ipython",
    "version": 3
   },
   "file_extension": ".py",
   "mimetype": "text/x-python",
   "name": "python",
   "nbconvert_exporter": "python",
   "pygments_lexer": "ipython3",
   "version": "3.11.3"
  }
 },
 "nbformat": 4,
 "nbformat_minor": 5
}
