{
 "cells": [
  {
   "cell_type": "code",
   "execution_count": 31,
   "id": "711ff459-dcb2-44d9-823f-a4dc46fe72a7",
   "metadata": {},
   "outputs": [],
   "source": [
    "import numpy as np\n",
    "import pandas as pd\n",
    "import matplotlib.pyplot as plt"
   ]
  },
  {
   "cell_type": "code",
   "execution_count": 32,
   "id": "0d1a0033-f7dd-4525-b017-21ad65453357",
   "metadata": {},
   "outputs": [
    {
     "name": "stdout",
     "output_type": "stream",
     "text": [
      "(8, 600)\n",
      "(8, 168)\n",
      "(1, 600)\n",
      "(1, 168)\n"
     ]
    }
   ],
   "source": [
    "data_set=pd.read_csv(r'diabetes.csv')\n",
    "train_set=data_set[0:600]\n",
    "test_set=data_set[600:769]\n",
    "train_set=np.array(train_set)\n",
    "test_set=np.array(test_set)\n",
    "\n",
    "x_train=train_set[:,:8]\n",
    "y_train=train_set[:,8]\n",
    "y_train=y_train.reshape((1,600))\n",
    "\n",
    "x_test=test_set[:,:8]\n",
    "y_test=test_set[:,8]\n",
    "y_test=y_test.reshape((1,168))\n",
    "\n",
    "x_train=x_train.T\n",
    "x_test=x_test.T\n",
    "\n",
    "def z_normalization(X):\n",
    "    m = np.mean(X, axis=1, keepdims=True)\n",
    "    sig = np.std(X, axis=1, keepdims=True)\n",
    "    normalized_x = (X - m) / sig\n",
    "    return normalized_x\n",
    "x_train=z_normalization(x_train)\n",
    "x_test=z_normalization(x_test)\n",
    "\n",
    "print(x_train.shape)\n",
    "print(x_test.shape)\n",
    "print(y_train.shape)\n",
    "print(y_test.shape)"
   ]
  },
  {
   "cell_type": "code",
   "execution_count": 223,
   "id": "1ad31c4b-f2b7-47fe-ab17-faf056f77abd",
   "metadata": {},
   "outputs": [],
   "source": [
    "def predict(x,w,b):\n",
    "    z=np.dot(w,x)+b\n",
    "    return z\n",
    "def init_params(n,m):\n",
    "    w1=np.random.randn(15,n)*np.sqrt(2/(n))\n",
    "    w2=np.random.randn(6,15)*np.sqrt(2/(15))\n",
    "    w3=np.random.randn(1,6)*np.sqrt(2/(6))\n",
    "    b1=np.zeros((15,1))\n",
    "    b2=np.zeros((6,1))\n",
    "    b3=np.zeros((1,1))\n",
    "    return w1,w2,w3,b1,b2,b3"
   ]
  },
  {
   "cell_type": "code",
   "execution_count": 224,
   "id": "f46b069e-72e3-46e6-8c0f-29fbfd610b1d",
   "metadata": {},
   "outputs": [],
   "source": [
    "def sigmoid(z):\n",
    "    A=1/(1+np.exp(-z))\n",
    "    return A\n",
    "def derivative_sigmoid(A):\n",
    "    dA=A*(1-A)\n",
    "    return dA\n",
    "def derivative_tanh(A):\n",
    "    return 1-(np.tanh(A))**2"
   ]
  },
  {
   "cell_type": "code",
   "execution_count": 225,
   "id": "f5836334-82a1-47fe-8835-d85ed4fb621a",
   "metadata": {},
   "outputs": [],
   "source": [
    "def forward_propagation(x,w1,w2,w3,b1,b2,b3):\n",
    "    z1=predict(x,w1,b1)\n",
    "    a1=sigmoid(z1)\n",
    "    # a1=np.tanh(z1)\n",
    "    z2=predict(a1,w2,b2)\n",
    "    a2=sigmoid(z2)\n",
    "    # a2=np.tanh(z2)\n",
    "    z3=predict(a2,w3,b3)\n",
    "    a3=sigmoid(z3)\n",
    "    return z1,a1,z2,a2,z3,a3"
   ]
  },
  {
   "cell_type": "code",
   "execution_count": 226,
   "id": "e0ac054a-b81a-43e6-8453-0230bdde1b3a",
   "metadata": {},
   "outputs": [],
   "source": [
    "def backward_propagation(x,y,a1,a2,a3,z1,z2,z3,w1,w2,w3):\n",
    "    m=y.shape[1]\n",
    "    # total_cost=total_loss\n",
    "    # loss_each=-y*log(a3)-(1-y)*log(1-a3)\n",
    "    # dloss/da3=(-y/a3)+(1-y/1-a3)\n",
    "    # da3=(-y/a3)+(1-y/1-a3)\n",
    "    # dloss/dz3=[dloss/da3]*[da3/dz3]\n",
    "    #           =(-y/a3)+(1-y/1-a3) * derivation of sigmoid(z3)\n",
    "    #           =(-y/a3)+(1-y/1-a3) * a3*(1-a3)\n",
    "    #       dz3 =[a3-y]\n",
    "    dz3=(a3-y)\n",
    "    # dw3= dz3* [dz3/dw3]\n",
    "    #     = (a3-y) * d(np.dot(a2,w3)+b)/d(w3)\n",
    "    #     = (a3-y) * a2\n",
    "    #     check the dimentions matching or not\n",
    "    #     dw3= (a3-y)* a2\n",
    "    dw3=(1./m)*np.dot(dz3,(a2.T))\n",
    "    db3=(1./m)*np.sum(dz3,axis=1,keepdims=True)\n",
    "\n",
    "    \n",
    "    # da2= dz3* [dz3/da2]\n",
    "    #     = dz3 * d(np.dot(a2,w3)+b)/d(a2)\n",
    "    #     = dz3 * w3\n",
    "    #     check the dimentions matching\n",
    "    # da2= dz3*(w3)\n",
    "    da2=np.dot(w3.T,dz3)\n",
    "    # dz2= da2* (da2/dz2)\n",
    "    #     here a2=np.tanh(z2)\n",
    "    #     so da2/dz2=derivative_tanh(z2)\n",
    "    #     dz2= da2 * (1-(a2))**2\n",
    "    #     check dimentionality\n",
    "    dz2= da2*derivative_sigmoid(z2)\n",
    "    # by observing above pattern we can compute that dwi=dzi*a(i-1)\n",
    "    dw2= (1./m)*np.dot(dz2,a1.T)\n",
    "    db2=(1./m)*np.sum(dz2,axis=1,keepdims=True)\n",
    "\n",
    "    # da1=dz2* [dz2/da1]\n",
    "    #     =dz2* np.dot(a1,w2)+b2/d(a1)\n",
    "    #     =dz2 * [w2]\n",
    "    #     check dimentionality\n",
    "    da1=np.dot(w2.T,dz2)\n",
    "    # dz1= da1* da1/dz1\n",
    "    #     = da1 * d(np.tanh(z1))/d(z1)\n",
    "    #     = da1 * (1-np.tanh(z1))**2\n",
    "    #     = da1 * (1-a1)**2\n",
    "    #     check dimentionality and build equation \n",
    "    dz1= da1* derivative_sigmoid(z1)\n",
    "    # dw1= dz1* (a0==x)\n",
    "    dw1=(1./m)*np.dot(dz1,x.T)\n",
    "    db1= (1./m)*np.sum(dz1,axis=1,keepdims=True)\n",
    "\n",
    "    return dw1,db1,dw2,db2,dw3,db3\n",
    "    \n",
    "    "
   ]
  },
  {
   "cell_type": "code",
   "execution_count": 227,
   "id": "a4446e08-575a-4296-b7d2-adcc29313735",
   "metadata": {},
   "outputs": [],
   "source": [
    "def update_params(w1,w2,w3,b1,b2,b3,dw1,dw2,dw3,db1,db2,db3,alpha):\n",
    "    w1=w1-(alpha*dw1)\n",
    "    w2=w2-(alpha*dw2)\n",
    "    w3=w3-(alpha*dw3)\n",
    "    b1=b1-(alpha*db1)\n",
    "    b2=b2-(alpha*db2)\n",
    "    b3=b3-(alpha*db3)\n",
    "    return w1,b1,w2,b2,w3,b3\n",
    "    "
   ]
  },
  {
   "cell_type": "code",
   "execution_count": 228,
   "id": "90b6f9c9-2d36-4d6f-aeb9-5b0f8c99e10a",
   "metadata": {},
   "outputs": [],
   "source": [
    "def compute_cost(a3,y):\n",
    "    m=y.shape[1]\n",
    "    cost=(1./m)*(np.sum(-y*np.log(a3)-(1-y)*np.log(1-a3),axis=1))\n",
    "    return cost"
   ]
  },
  {
   "cell_type": "code",
   "execution_count": 229,
   "id": "e2b13162-f306-44f0-b3cd-4f42d2ad794d",
   "metadata": {},
   "outputs": [],
   "source": [
    "def actual_predict(a3):\n",
    "    return (a3>=0.5).astype(int)\n",
    "def accuracy(y,a3):\n",
    "    y_hat=actual_predict(a3)\n",
    "    return np.mean(y==y_hat)"
   ]
  },
  {
   "cell_type": "code",
   "execution_count": 230,
   "id": "4a37e3d7-897f-41c5-99b1-0f0779c7aeb0",
   "metadata": {},
   "outputs": [],
   "source": [
    "def model(x,y,alpha,iterations):\n",
    "    m=x.shape[1]\n",
    "    n=x.shape[0]\n",
    "    j_cost=[]\n",
    "    j_iter=[]\n",
    "    w1,w2,w3,b1,b2,b3=init_params(n,m)\n",
    "    for i in range(iterations):\n",
    "        z1,a1,z2,a2,z3,a3=forward_propagation(x,w1,w2,w3,b1,b2,b3)\n",
    "        dw1,db1,dw2,db2,dw3,db3=backward_propagation(x,y,a1,a2,a3,z1,z2,z3,w1,w2,w3)\n",
    "        w1,b1,w2,b2,w3,b3=update_params(w1,w2,w3,b1,b2,b3,dw1,dw2,dw3,db1,db2,db3,alpha)\n",
    "        if i%1000==0 or i==iterations-1:\n",
    "            temp_cost=compute_cost(a3,y)\n",
    "            # print(f\"cost: {temp_cost}\")\n",
    "            # print(f\"Accuracy: {accuracy(y,a3)}\")\n",
    "            j_cost.append(temp_cost)\n",
    "            j_iter.append(i)\n",
    "    return w1,b1,w2,b2,w3,b3,j_cost,j_iter\n",
    "\n",
    "            \n",
    "            "
   ]
  },
  {
   "cell_type": "code",
   "execution_count": 233,
   "id": "62e934e0-6364-4b97-9767-1e2a4ba19ecf",
   "metadata": {},
   "outputs": [
    {
     "name": "stderr",
     "output_type": "stream",
     "text": [
      "C:\\Users\\ramis\\AppData\\Local\\Temp\\ipykernel_15820\\2945687443.py:2: RuntimeWarning: overflow encountered in exp\n",
      "  A=1/(1+np.exp(-z))\n",
      "C:\\Users\\ramis\\AppData\\Local\\Temp\\ipykernel_15820\\2945687443.py:5: RuntimeWarning: overflow encountered in multiply\n",
      "  dA=A*(1-A)\n"
     ]
    },
    {
     "name": "stdout",
     "output_type": "stream",
     "text": [
      "Accuracy for Train Data:0.6533333333333333\n",
      "Accuracy for Test Data:0.6428571428571429\n"
     ]
    },
    {
     "data": {
      "text/plain": [
       "[<matplotlib.lines.Line2D at 0x1ecc0996f10>]"
      ]
     },
     "execution_count": 233,
     "metadata": {},
     "output_type": "execute_result"
    },
    {
     "data": {
      "image/png": "[encoded data removed]",
      "text/plain": [
       "<Figure size 640x480 with 1 Axes>"
      ]
     },
     "metadata": {},
     "output_type": "display_data"
    }
   ],
   "source": [
    "itera=10000\n",
    "alpha=0.02\n",
    "w1,b1,w2,b2,w3,b3,j_cost,j_iter=model(x_train,y_train,alpha,itera)\n",
    "z1,a1,z2,a2,z3,a3_test=forward_propagation(x_test,w1,w2,w3,b1,b2,b3)\n",
    "z1,a1,z2,a2,z3,a3_train=forward_propagation(x_train,w1,w2,w3,b1,b2,b3)\n",
    "print(f\"Accuracy for Train Data:{accuracy(y_train,a3_train)}\")\n",
    "print(f\"Accuracy for Test Data:{accuracy(y_test,a3_test)}\")\n",
    "plt.plot(j_iter,j_cost)"
   ]
  },
  {
   "cell_type": "code",
   "execution_count": null,
   "id": "9e8defda-c572-4f43-bfb6-f44ed6bf53ea",
   "metadata": {},
   "outputs": [],
   "source": []
  }
 ],
 "metadata": {
  "kernelspec": {
   "display_name": "Python 3 (ipykernel)",
   "language": "python",
   "name": "python3"
  },
  "language_info": {
   "codemirror_mode": {
    "name": "ipython",
    "version": 3
   },
   "file_extension": ".py",
   "mimetype": "text/x-python",
   "name": "python",
   "nbconvert_exporter": "python",
   "pygments_lexer": "ipython3",
   "version": "3.11.3"
  }
 },
 "nbformat": 4,
 "nbformat_minor": 5
}
